{
 "cells": [
  {
   "cell_type": "code",
   "execution_count": null,
   "id": "d8b3f886",
   "metadata": {},
   "outputs": [],
   "source": [
    "# 1. 效用函数曲线对比\n",
    "ax1 = fig.add_subplot(gs[0, :])\n",
    "\n",
    "# 生成更密集的x值用于平滑\n",
    "weeks_dense = np.linspace(weeks.min(), weeks.max(), 300)  # 从100个点增加到300个点\n",
    "\n",
    "if U_low is not None:\n",
    "    # 使用三次样条插值进行平滑\n",
    "    spl_low = make_interp_spline(weeks, U_low, k=3)\n",
    "    U_low_smooth = spl_low(weeks_dense)\n",
    "    ax1.plot(weeks_dense, U_low_smooth, label=f'Low BMI (Optimal: {best_low:.1f} weeks)', \n",
    "             linewidth=2.5, color='#2E86AB', alpha=0.9)\n",
    "    # 标记最优解点\n",
    "    ax1.scatter(best_low, spl_low(best_low), color='#2E86AB', s=80, zorder=5, \n",
    "               edgecolors='white', linewidth=1.5)\n",
    "\n",
    "if U_mid is not None:\n",
    "    spl_mid = make_interp_spline(weeks, U_mid, k=3)\n",
    "    U_mid_smooth = spl_mid(weeks_dense)\n",
    "    ax1.plot(weeks_dense, U_mid_smooth, label=f'Mid BMI (Optimal: {best_mid:.1f} weeks)', \n",
    "             linewidth=2.5, color='#A23B72', alpha=0.9)\n",
    "    ax1.scatter(best_mid, spl_mid(best_mid), color='#A23B72', s=80, zorder=5,\n",
    "               edgecolors='white', linewidth=1.5)\n",
    "\n",
    "if U_high is not None:\n",
    "    spl_high = make_interp_spline(weeks, U_high, k=3)\n",
    "    U_high_smooth = spl_high(weeks_dense)\n",
    "    ax1.plot(weeks_dense, U_high_smooth, label=f'High BMI (Optimal: {best_high:.1f} weeks)', \n",
    "             linewidth=2.5, color='#F18F01', alpha=0.9)\n",
    "    ax1.scatter(best_high, spl_high(best_high), color='#F18F01', s=80, zorder=5,\n",
    "               edgecolors='white', linewidth=1.5)\n",
    "\n",
    "# 添加网格和标签\n",
    "ax1.grid(True, alpha=0.3, linestyle='-', linewidth=0.5)\n",
    "ax1.set_xlabel(\"Gestational Week\", fontsize=11, fontweight='bold')\n",
    "ax1.set_ylabel(\"Utility\", fontsize=11, fontweight='bold')\n",
    "ax1.set_title(\"Utility Function Comparison by BMI Groups\", fontsize=13, fontweight='bold')\n",
    "ax1.legend(loc='best', frameon=True, fancybox=True, shadow=True, fontsize=10)\n",
    "\n",
    "# 设置合适的y轴范围\n",
    "all_utils = []\n",
    "if U_low is not None: all_utils.extend(U_low_smooth)\n",
    "if U_mid is not None: all_utils.extend(U_mid_smooth)\n",
    "if U_high is not None: all_utils.extend(U_high_smooth)\n",
    "\n",
    "if all_utils:\n",
    "    ax1.set_ylim(min(all_utils) * 0.95, max(all_utils) * 1.05)"
   ]
  }
 ],
 "metadata": {
  "kernelspec": {
   "display_name": "Python 3 (ipykernel)",
   "language": "python",
   "name": "python3"
  },
  "language_info": {
   "codemirror_mode": {
    "name": "ipython",
    "version": 3
   },
   "file_extension": ".py",
   "mimetype": "text/x-python",
   "name": "python",
   "nbconvert_exporter": "python",
   "pygments_lexer": "ipython3",
   "version": "3.8.19"
  }
 },
 "nbformat": 4,
 "nbformat_minor": 5
}
