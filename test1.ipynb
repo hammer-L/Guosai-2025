{
 "cells": [
  {
   "cell_type": "code",
   "execution_count": 17,
   "id": "0d9a77cd",
   "metadata": {},
   "outputs": [
    {
     "name": "stdout",
     "output_type": "stream",
     "text": [
      "<class 'numpy.ndarray'>\n"
     ]
    },
    {
     "name": "stderr",
     "output_type": "stream",
     "text": [
      "C:\\Users\\锤子\\AppData\\Local\\Temp\\ipykernel_45288\\781349509.py:32: SettingWithCopyWarning: \n",
      "A value is trying to be set on a copy of a slice from a DataFrame.\n",
      "Try using .loc[row_indexer,col_indexer] = value instead\n",
      "\n",
      "See the caveats in the documentation: https://pandas.pydata.org/pandas-docs/stable/user_guide/indexing.html#returning-a-view-versus-a-copy\n",
      "  df_show['孕周'] = df_show['孕周'] * 7\n"
     ]
    },
    {
     "data": {
      "text/html": [
       "<div>\n",
       "<style scoped>\n",
       "    .dataframe tbody tr th:only-of-type {\n",
       "        vertical-align: middle;\n",
       "    }\n",
       "\n",
       "    .dataframe tbody tr th {\n",
       "        vertical-align: top;\n",
       "    }\n",
       "\n",
       "    .dataframe thead th {\n",
       "        text-align: right;\n",
       "    }\n",
       "</style>\n",
       "<table border=\"1\" class=\"dataframe\">\n",
       "  <thead>\n",
       "    <tr style=\"text-align: right;\">\n",
       "      <th></th>\n",
       "      <th>孕周</th>\n",
       "      <th>Y染色体浓度</th>\n",
       "    </tr>\n",
       "  </thead>\n",
       "  <tbody>\n",
       "    <tr>\n",
       "      <th>0</th>\n",
       "      <td>83.0</td>\n",
       "      <td>0.025936</td>\n",
       "    </tr>\n",
       "    <tr>\n",
       "      <th>1</th>\n",
       "      <td>141.0</td>\n",
       "      <td>0.066171</td>\n",
       "    </tr>\n",
       "    <tr>\n",
       "      <th>2</th>\n",
       "      <td>160.0</td>\n",
       "      <td>0.061192</td>\n",
       "    </tr>\n",
       "    <tr>\n",
       "      <th>3</th>\n",
       "      <td>97.0</td>\n",
       "      <td>0.059230</td>\n",
       "    </tr>\n",
       "    <tr>\n",
       "      <th>4</th>\n",
       "      <td>117.0</td>\n",
       "      <td>0.042401</td>\n",
       "    </tr>\n",
       "  </tbody>\n",
       "</table>\n",
       "</div>"
      ],
      "text/plain": [
       "      孕周    Y染色体浓度\n",
       "0   83.0  0.025936\n",
       "1  141.0  0.066171\n",
       "2  160.0  0.061192\n",
       "3   97.0  0.059230\n",
       "4  117.0  0.042401"
      ]
     },
     "execution_count": 17,
     "metadata": {},
     "output_type": "execute_result"
    }
   ],
   "source": [
    "import pandas as pd\n",
    "import numpy as np\n",
    "import seaborn as sns\n",
    "import matplotlib.pyplot as plt\n",
    "from sklearn.model_selection import train_test_split\n",
    "from sklearn.preprocessing import StandardScaler\n",
    "from sklearn.cluster import KMeans\n",
    "from sklearn.metrics import silhouette_score\n",
    "from sklearn.tree import DecisionTreeClassifier, plot_tree\n",
    "\n",
    "import matplotlib.pyplot as plt\n",
    "\n",
    "# 设置中文字体支持\n",
    "plt.rcParams['font.sans-serif'] = ['SimHei']  # 设置支持中文的字体，优先使用SimHei\n",
    "plt.rcParams['axes.unicode_minus'] = False  # 解决负号显示问题\n",
    "sns.set_theme(style=\"white\", font_scale=1.2)\n",
    "\n",
    "df = pd.read_excel('filtered-ref-converted.xlsx')\n",
    "df_low = df[df['孕妇BMI'] < 27].copy()\n",
    "df_mid = df[(df['孕妇BMI'] >= 27) & (df['孕妇BMI'] <= 38)].copy()\n",
    "df_high = df[df['孕妇BMI'] > 38].copy()\n",
    "\n",
    "term_dict = {\n",
    "    '0.7^x1': 0.0015,\n",
    "    '1/x1': -0.0004,\n",
    "    'y': 1.7842,\n",
    "    '1': 1.7941,\n",
    "    'exp(y)': -1.7938\n",
    "}\n",
    "\n",
    "df_show = df_mid[['孕周','Y染色体浓度']]\n",
    "df_show['孕周'] = df_show['孕周'] * 7\n",
    "x1 = df_mid['孕周'].to_numpy() * 7\n",
    "y = df_mid['Y染色体浓度'].to_numpy()\n",
    "print (type(x1))\n",
    "\n",
    "\n",
    "df_show.head()"
   ]
  },
  {
   "cell_type": "code",
   "execution_count": 24,
   "id": "6407dcaf",
   "metadata": {},
   "outputs": [
    {
     "name": "stdout",
     "output_type": "stream",
     "text": [
      "x1 = 117.0, y ≈ 0.013581724532319471\n"
     ]
    }
   ],
   "source": [
    "import numpy as np\n",
    "from scipy.optimize import fsolve\n",
    "\n",
    "def solve_y(x1, y0=1.0):\n",
    "    \"\"\"\n",
    "    给定 x1，数值解隐函数 f(y)=0，返回 y\n",
    "    y0 是初始猜测值\n",
    "    \"\"\"\n",
    "    def f(y):\n",
    "        return (0.0015*(0.7**x1)\n",
    "                - 0.0004*(1/x1)\n",
    "                + 1.7842*y\n",
    "                + 1.7941\n",
    "                - 1.7938*np.exp(y))\n",
    "    \n",
    "    y_solution = fsolve(f, y0)\n",
    "    return y_solution[0]\n",
    "\n",
    "# 示例：给定 x1 = 2\n",
    "x1_val = 117.0\n",
    "y_val = solve_y(x1_val)\n",
    "print(f\"x1 = {x1_val}, y ≈ {y_val}\")\n"
   ]
  },
  {
   "cell_type": "code",
   "execution_count": null,
   "id": "40e466ef",
   "metadata": {},
   "outputs": [],
   "source": []
  }
 ],
 "metadata": {
  "kernelspec": {
   "display_name": "Python 3 (ipykernel)",
   "language": "python",
   "name": "python3"
  },
  "language_info": {
   "codemirror_mode": {
    "name": "ipython",
    "version": 3
   },
   "file_extension": ".py",
   "mimetype": "text/x-python",
   "name": "python",
   "nbconvert_exporter": "python",
   "pygments_lexer": "ipython3",
   "version": "3.8.19"
  }
 },
 "nbformat": 4,
 "nbformat_minor": 5
}
